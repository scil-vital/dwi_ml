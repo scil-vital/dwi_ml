{
 "cells": [
  {
   "cell_type": "code",
   "execution_count": null,
   "id": "dfb44313",
   "metadata": {},
   "outputs": [],
   "source": [
    "%%capture\n",
    "try:\n",
    "    !pip install bertviz\n",
    "except:\n",
    "    print(\"bertviz was not successfully installed!\")\n",
    "    exit(1)"
   ]
  },
  {
   "cell_type": "code",
   "execution_count": null,
   "id": "a9eb63a1",
   "metadata": {},
   "outputs": [],
   "source": [
    "import argparse\n",
    "import os\n",
    "from os.path import dirname, join\n",
    "import sys\n",
    "\n",
    "from IPython.display import HTML\n",
    "\n",
    "from scilpy.io.fetcher import get_home as get_scilpy_folder\n",
    "\n",
    "from dwi_ml.testing.projects.tt_visu_main import \\\n",
    "    (build_argparser_transformer_visu, get_config_filename, tt_visualize_weights_main)   \n"
   ]
  },
  {
   "cell_type": "code",
   "execution_count": null,
   "id": "e744a325",
   "metadata": {},
   "outputs": [],
   "source": [
    "# Loading all parameters written in the config file\n",
    "CONFIG_FILENAME = get_config_filename()\n",
    "if os.path.isfile(CONFIG_FILENAME):\n",
    "    with open(CONFIG_FILENAME) as f:\n",
    "        sys.argv = f.read().split()\n",
    "else:\n",
    "    raise ValueError(\"Could not find the config file {}\".format(CONFIG_FILENAME))\n"
   ]
  },
  {
   "cell_type": "code",
   "execution_count": null,
   "id": "4ffe8831",
   "metadata": {},
   "outputs": [],
   "source": [
    "print(\"RUNNING WEIGHTS VISUALIZATION FOR TRANSFORMING TRACTOGRAPHY'S ORIGINAL MODEL\")\n",
    "parser = build_argparser_transformer_visu()\n",
    "args = parser.parse_args()\n",
    "tt_visualize_weights_main(args, parser)"
   ]
  }
 ],
 "metadata": {
  "kernelspec": {
   "display_name": "Python 3 (ipykernel)",
   "language": "python",
   "name": "python3"
  },
  "language_info": {
   "codemirror_mode": {
    "name": "ipython",
    "version": 3
   },
   "file_extension": ".py",
   "mimetype": "text/x-python",
   "name": "python",
   "nbconvert_exporter": "python",
   "pygments_lexer": "ipython3",
   "version": "3.10.13"
  }
 },
 "nbformat": 4,
 "nbformat_minor": 5
}
